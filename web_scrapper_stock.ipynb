{
 "cells": [
  {
   "cell_type": "code",
   "execution_count": 1,
   "id": "00345af2-d456-4b05-823d-0e28e94ae68e",
   "metadata": {},
   "outputs": [
    {
     "name": "stdout",
     "output_type": "stream",
     "text": [
      "Failed to retrieve data\n",
      "No data to save.\n",
      "Stock market data scraping completed!\n"
     ]
    }
   ],
   "source": [
    "import requests\n",
    "from bs4 import BeautifulSoup\n",
    "import csv\n",
    "import datetime\n",
    "\n",
    "def fetch_stock_data(url):\n",
    "    \"\"\"Fetches stock market data from the given URL.\"\"\"\n",
    "    headers = {\"User-Agent\": \"Mozilla/5.0\"}\n",
    "    response = requests.get(url, headers=headers)\n",
    "    \n",
    "    if response.status_code != 200:\n",
    "        print(\"Failed to retrieve data\")\n",
    "        return None\n",
    "    \n",
    "    soup = BeautifulSoup(response.text, 'html.parser')\n",
    "    stock_info = []\n",
    "    \n",
    "    # Example scraping logic (modify based on target website)\n",
    "    stocks = soup.find_all(\"div\", class_=\"stock-item\")  # Adjust the selector based on site structure\n",
    "    for stock in stocks:\n",
    "        name = stock.find(\"h2\").text.strip()\n",
    "        price = stock.find(\"span\", class_=\"price\").text.strip()\n",
    "        change = stock.find(\"span\", class_=\"change\").text.strip()\n",
    "        stock_info.append([name, price, change])\n",
    "    \n",
    "    return stock_info\n",
    "\n",
    "def save_to_csv(data, filename=\"stock_data.csv\"):\n",
    "    \"\"\"Saves stock data to a CSV file.\"\"\"\n",
    "    if not data:\n",
    "        print(\"No data to save.\")\n",
    "        return\n",
    "    \n",
    "    with open(filename, mode=\"w\", newline=\"\") as file:\n",
    "        writer = csv.writer(file)\n",
    "        writer.writerow([\"Stock Name\", \"Price\", \"Change\"])\n",
    "        writer.writerows(data)\n",
    "    \n",
    "    print(f\"Data saved to {filename}\")\n",
    "\n",
    "if __name__ == \"__main__\":\n",
    "    STOCK_URL = \"https://example.com/stocks\"  # Replace with actual stock data source\n",
    "    stock_data = fetch_stock_data(STOCK_URL)\n",
    "    save_to_csv(stock_data)\n",
    "    print(\"Stock market data scraping completed!\")\n"
   ]
  },
  {
   "cell_type": "code",
   "execution_count": null,
   "id": "7f95967e-8d8c-4380-bc51-0f6eb9f42da0",
   "metadata": {},
   "outputs": [],
   "source": []
  }
 ],
 "metadata": {
  "kernelspec": {
   "display_name": "Python 3 (ipykernel)",
   "language": "python",
   "name": "python3"
  },
  "language_info": {
   "codemirror_mode": {
    "name": "ipython",
    "version": 3
   },
   "file_extension": ".py",
   "mimetype": "text/x-python",
   "name": "python",
   "nbconvert_exporter": "python",
   "pygments_lexer": "ipython3",
   "version": "3.11.7"
  }
 },
 "nbformat": 4,
 "nbformat_minor": 5
}
